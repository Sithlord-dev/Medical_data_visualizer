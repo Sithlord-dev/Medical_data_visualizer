{
 "cells": [
  {
   "cell_type": "markdown",
   "id": "signal-huntington",
   "metadata": {},
   "source": [
    "# Medical data visualizer"
   ]
  },
  {
   "cell_type": "markdown",
   "id": "authorized-partition",
   "metadata": {},
   "source": [
    "![separator](img/sep.jpeg)"
   ]
  },
  {
   "cell_type": "markdown",
   "id": "choice-wagner",
   "metadata": {},
   "source": [
    "In this project, we visualize and make calculations from medical examination data using matplotlib, seaborn, and pandas."
   ]
  },
  {
   "cell_type": "code",
   "execution_count": 148,
   "id": "alpha-council",
   "metadata": {},
   "outputs": [],
   "source": [
    "import pandas as pd\n",
    "import seaborn as sns\n",
    "import matplotlib.pyplot as plt\n",
    "import numpy as np\n",
    "import random"
   ]
  },
  {
   "cell_type": "markdown",
   "id": "diverse-reverse",
   "metadata": {},
   "source": [
    "## 1) Data description\n",
    "\n",
    "The dataset values were collected during medical examinations. The rows in the dataset represent patients and the columns represent information like body measurements, results from various blood tests, and lifestyle choices. We use the dataset to explore the relationship between cardiac disease, body measurements, blood markers, and lifestyle choices.\n",
    "\n",
    "| Feature | Variable Type | Variable      | Value Type |\n",
    "|:-------:|:------------:|:-------------:|:----------:|\n",
    "| Age | Objective Feature | age | int (days) |\n",
    "| Height | Objective Feature | height | int (cm) |\n",
    "| Weight | Objective Feature | weight | float (kg) |\n",
    "| Gender | Objective Feature | gender | categorical code |\n",
    "| Systolic blood pressure | Examination Feature | ap_hi | int |\n",
    "| Diastolic blood pressure | Examination Feature | ap_lo | int |\n",
    "| Cholesterol | Examination Feature | cholesterol | 1: normal, 2: above normal, 3: well above normal |\n",
    "| Glucose | Examination Feature | gluc | 1: normal, 2: above normal, 3: well above normal |\n",
    "| Smoking | Subjective Feature | smoke | binary |\n",
    "| Alcohol intake | Subjective Feature | alco | binary |\n",
    "| Physical activity | Subjective Feature | active | binary |\n",
    "| Presence or absence of cardiovascular disease | Target Variable | cardio | binary |"
   ]
  },
  {
   "cell_type": "code",
   "execution_count": 149,
   "id": "liked-expression",
   "metadata": {},
   "outputs": [
    {
     "data": {
      "text/html": [
       "<div>\n",
       "<style scoped>\n",
       "    .dataframe tbody tr th:only-of-type {\n",
       "        vertical-align: middle;\n",
       "    }\n",
       "\n",
       "    .dataframe tbody tr th {\n",
       "        vertical-align: top;\n",
       "    }\n",
       "\n",
       "    .dataframe thead th {\n",
       "        text-align: right;\n",
       "    }\n",
       "</style>\n",
       "<table border=\"1\" class=\"dataframe\">\n",
       "  <thead>\n",
       "    <tr style=\"text-align: right;\">\n",
       "      <th></th>\n",
       "      <th>id</th>\n",
       "      <th>age</th>\n",
       "      <th>gender</th>\n",
       "      <th>height</th>\n",
       "      <th>weight</th>\n",
       "      <th>ap_hi</th>\n",
       "      <th>ap_lo</th>\n",
       "      <th>cholesterol</th>\n",
       "      <th>gluc</th>\n",
       "      <th>smoke</th>\n",
       "      <th>alco</th>\n",
       "      <th>active</th>\n",
       "      <th>cardio</th>\n",
       "    </tr>\n",
       "  </thead>\n",
       "  <tbody>\n",
       "    <tr>\n",
       "      <th>0</th>\n",
       "      <td>0</td>\n",
       "      <td>18393</td>\n",
       "      <td>2</td>\n",
       "      <td>168</td>\n",
       "      <td>62.0</td>\n",
       "      <td>110</td>\n",
       "      <td>80</td>\n",
       "      <td>1</td>\n",
       "      <td>1</td>\n",
       "      <td>0</td>\n",
       "      <td>0</td>\n",
       "      <td>1</td>\n",
       "      <td>0</td>\n",
       "    </tr>\n",
       "    <tr>\n",
       "      <th>1</th>\n",
       "      <td>1</td>\n",
       "      <td>20228</td>\n",
       "      <td>1</td>\n",
       "      <td>156</td>\n",
       "      <td>85.0</td>\n",
       "      <td>140</td>\n",
       "      <td>90</td>\n",
       "      <td>3</td>\n",
       "      <td>1</td>\n",
       "      <td>0</td>\n",
       "      <td>0</td>\n",
       "      <td>1</td>\n",
       "      <td>1</td>\n",
       "    </tr>\n",
       "    <tr>\n",
       "      <th>2</th>\n",
       "      <td>2</td>\n",
       "      <td>18857</td>\n",
       "      <td>1</td>\n",
       "      <td>165</td>\n",
       "      <td>64.0</td>\n",
       "      <td>130</td>\n",
       "      <td>70</td>\n",
       "      <td>3</td>\n",
       "      <td>1</td>\n",
       "      <td>0</td>\n",
       "      <td>0</td>\n",
       "      <td>0</td>\n",
       "      <td>1</td>\n",
       "    </tr>\n",
       "    <tr>\n",
       "      <th>3</th>\n",
       "      <td>3</td>\n",
       "      <td>17623</td>\n",
       "      <td>2</td>\n",
       "      <td>169</td>\n",
       "      <td>82.0</td>\n",
       "      <td>150</td>\n",
       "      <td>100</td>\n",
       "      <td>1</td>\n",
       "      <td>1</td>\n",
       "      <td>0</td>\n",
       "      <td>0</td>\n",
       "      <td>1</td>\n",
       "      <td>1</td>\n",
       "    </tr>\n",
       "    <tr>\n",
       "      <th>4</th>\n",
       "      <td>4</td>\n",
       "      <td>17474</td>\n",
       "      <td>1</td>\n",
       "      <td>156</td>\n",
       "      <td>56.0</td>\n",
       "      <td>100</td>\n",
       "      <td>60</td>\n",
       "      <td>1</td>\n",
       "      <td>1</td>\n",
       "      <td>0</td>\n",
       "      <td>0</td>\n",
       "      <td>0</td>\n",
       "      <td>0</td>\n",
       "    </tr>\n",
       "  </tbody>\n",
       "</table>\n",
       "</div>"
      ],
      "text/plain": [
       "   id    age  gender  height  weight  ap_hi  ap_lo  cholesterol  gluc  smoke  \\\n",
       "0   0  18393       2     168    62.0    110     80            1     1      0   \n",
       "1   1  20228       1     156    85.0    140     90            3     1      0   \n",
       "2   2  18857       1     165    64.0    130     70            3     1      0   \n",
       "3   3  17623       2     169    82.0    150    100            1     1      0   \n",
       "4   4  17474       1     156    56.0    100     60            1     1      0   \n",
       "\n",
       "   alco  active  cardio  \n",
       "0     0       1       0  \n",
       "1     0       1       1  \n",
       "2     0       0       1  \n",
       "3     0       1       1  \n",
       "4     0       0       0  "
      ]
     },
     "execution_count": 149,
     "metadata": {},
     "output_type": "execute_result"
    }
   ],
   "source": [
    "df = pd.read_csv('files/medical_examination.csv')\n",
    "df.head()"
   ]
  },
  {
   "cell_type": "markdown",
   "id": "diagnostic-instruction",
   "metadata": {},
   "source": [
    "## 2) Outcome comparison chart:\n",
    "\n",
    "We create a chart where we show the counts of good and bad outcomes for the `cholesterol`, `gluc`, `alco`, `active`, and `smoke` variables for patients with (i.e. `cardio=1`) and without (i.e. `cardio=0`)  cardiac diseases in different panels. \n",
    "\n",
    "To do so, we follow the following steps:"
   ]
  },
  {
   "cell_type": "markdown",
   "id": "adjacent-accountability",
   "metadata": {},
   "source": [
    "* Add an `overweight` column to the data. To determine if a person is overweight, first calculate their BMI by dividing their weight in kilograms by the square of their height in meters. If that value is > 25 then the person is overweight. Use the value 0 for NOT overweight and the value 1 for overweight."
   ]
  },
  {
   "cell_type": "code",
   "execution_count": 150,
   "id": "pediatric-reaction",
   "metadata": {},
   "outputs": [
    {
     "data": {
      "text/html": [
       "<div>\n",
       "<style scoped>\n",
       "    .dataframe tbody tr th:only-of-type {\n",
       "        vertical-align: middle;\n",
       "    }\n",
       "\n",
       "    .dataframe tbody tr th {\n",
       "        vertical-align: top;\n",
       "    }\n",
       "\n",
       "    .dataframe thead th {\n",
       "        text-align: right;\n",
       "    }\n",
       "</style>\n",
       "<table border=\"1\" class=\"dataframe\">\n",
       "  <thead>\n",
       "    <tr style=\"text-align: right;\">\n",
       "      <th></th>\n",
       "      <th>id</th>\n",
       "      <th>age</th>\n",
       "      <th>gender</th>\n",
       "      <th>height</th>\n",
       "      <th>weight</th>\n",
       "      <th>ap_hi</th>\n",
       "      <th>ap_lo</th>\n",
       "      <th>cholesterol</th>\n",
       "      <th>gluc</th>\n",
       "      <th>smoke</th>\n",
       "      <th>alco</th>\n",
       "      <th>active</th>\n",
       "      <th>cardio</th>\n",
       "      <th>overweight</th>\n",
       "    </tr>\n",
       "  </thead>\n",
       "  <tbody>\n",
       "    <tr>\n",
       "      <th>0</th>\n",
       "      <td>0</td>\n",
       "      <td>18393</td>\n",
       "      <td>2</td>\n",
       "      <td>168</td>\n",
       "      <td>62.0</td>\n",
       "      <td>110</td>\n",
       "      <td>80</td>\n",
       "      <td>1</td>\n",
       "      <td>1</td>\n",
       "      <td>0</td>\n",
       "      <td>0</td>\n",
       "      <td>1</td>\n",
       "      <td>0</td>\n",
       "      <td>0</td>\n",
       "    </tr>\n",
       "    <tr>\n",
       "      <th>1</th>\n",
       "      <td>1</td>\n",
       "      <td>20228</td>\n",
       "      <td>1</td>\n",
       "      <td>156</td>\n",
       "      <td>85.0</td>\n",
       "      <td>140</td>\n",
       "      <td>90</td>\n",
       "      <td>3</td>\n",
       "      <td>1</td>\n",
       "      <td>0</td>\n",
       "      <td>0</td>\n",
       "      <td>1</td>\n",
       "      <td>1</td>\n",
       "      <td>1</td>\n",
       "    </tr>\n",
       "    <tr>\n",
       "      <th>2</th>\n",
       "      <td>2</td>\n",
       "      <td>18857</td>\n",
       "      <td>1</td>\n",
       "      <td>165</td>\n",
       "      <td>64.0</td>\n",
       "      <td>130</td>\n",
       "      <td>70</td>\n",
       "      <td>3</td>\n",
       "      <td>1</td>\n",
       "      <td>0</td>\n",
       "      <td>0</td>\n",
       "      <td>0</td>\n",
       "      <td>1</td>\n",
       "      <td>0</td>\n",
       "    </tr>\n",
       "    <tr>\n",
       "      <th>3</th>\n",
       "      <td>3</td>\n",
       "      <td>17623</td>\n",
       "      <td>2</td>\n",
       "      <td>169</td>\n",
       "      <td>82.0</td>\n",
       "      <td>150</td>\n",
       "      <td>100</td>\n",
       "      <td>1</td>\n",
       "      <td>1</td>\n",
       "      <td>0</td>\n",
       "      <td>0</td>\n",
       "      <td>1</td>\n",
       "      <td>1</td>\n",
       "      <td>1</td>\n",
       "    </tr>\n",
       "    <tr>\n",
       "      <th>4</th>\n",
       "      <td>4</td>\n",
       "      <td>17474</td>\n",
       "      <td>1</td>\n",
       "      <td>156</td>\n",
       "      <td>56.0</td>\n",
       "      <td>100</td>\n",
       "      <td>60</td>\n",
       "      <td>1</td>\n",
       "      <td>1</td>\n",
       "      <td>0</td>\n",
       "      <td>0</td>\n",
       "      <td>0</td>\n",
       "      <td>0</td>\n",
       "      <td>0</td>\n",
       "    </tr>\n",
       "  </tbody>\n",
       "</table>\n",
       "</div>"
      ],
      "text/plain": [
       "   id    age  gender  height  weight  ap_hi  ap_lo  cholesterol  gluc  smoke  \\\n",
       "0   0  18393       2     168    62.0    110     80            1     1      0   \n",
       "1   1  20228       1     156    85.0    140     90            3     1      0   \n",
       "2   2  18857       1     165    64.0    130     70            3     1      0   \n",
       "3   3  17623       2     169    82.0    150    100            1     1      0   \n",
       "4   4  17474       1     156    56.0    100     60            1     1      0   \n",
       "\n",
       "   alco  active  cardio  overweight  \n",
       "0     0       1       0           0  \n",
       "1     0       1       1           1  \n",
       "2     0       0       1           0  \n",
       "3     0       1       1           1  \n",
       "4     0       0       0           0  "
      ]
     },
     "execution_count": 150,
     "metadata": {},
     "output_type": "execute_result"
    }
   ],
   "source": [
    "df['overweight'] = np.where( (df['weight'] / (df['height'] * 0.01) ** 2) > 25, 1, 0)\n",
    "df.head()"
   ]
  },
  {
   "cell_type": "markdown",
   "id": "certified-survey",
   "metadata": {},
   "source": [
    "* Normalize the data by making 0 always good and 1 always bad:"
   ]
  },
  {
   "cell_type": "code",
   "execution_count": 151,
   "id": "arranged-reward",
   "metadata": {},
   "outputs": [],
   "source": [
    "df.loc[(df['cholesterol'] == 1),'cholesterol'] = 0\n",
    "df.loc[(df['cholesterol'] > 1),'cholesterol'] = 1\n",
    "\n",
    "df.loc[(df['gluc'] == 1),'gluc'] = 0\n",
    "df.loc[(df['gluc'] > 1),'gluc'] = 1"
   ]
  },
  {
   "cell_type": "markdown",
   "id": "historical-irrigation",
   "metadata": {},
   "source": [
    "* Create DataFrame for cat plot using `pd.melt` using just the values from 'cholesterol', 'gluc', 'smoke', 'alco', 'active', and 'overweight'."
   ]
  },
  {
   "cell_type": "code",
   "execution_count": 152,
   "id": "metric-courtesy",
   "metadata": {},
   "outputs": [
    {
     "data": {
      "text/html": [
       "<div>\n",
       "<style scoped>\n",
       "    .dataframe tbody tr th:only-of-type {\n",
       "        vertical-align: middle;\n",
       "    }\n",
       "\n",
       "    .dataframe tbody tr th {\n",
       "        vertical-align: top;\n",
       "    }\n",
       "\n",
       "    .dataframe thead th {\n",
       "        text-align: right;\n",
       "    }\n",
       "</style>\n",
       "<table border=\"1\" class=\"dataframe\">\n",
       "  <thead>\n",
       "    <tr style=\"text-align: right;\">\n",
       "      <th></th>\n",
       "      <th>cardio</th>\n",
       "      <th>variable</th>\n",
       "      <th>value</th>\n",
       "    </tr>\n",
       "  </thead>\n",
       "  <tbody>\n",
       "    <tr>\n",
       "      <th>0</th>\n",
       "      <td>0</td>\n",
       "      <td>cholesterol</td>\n",
       "      <td>0</td>\n",
       "    </tr>\n",
       "    <tr>\n",
       "      <th>1</th>\n",
       "      <td>1</td>\n",
       "      <td>cholesterol</td>\n",
       "      <td>1</td>\n",
       "    </tr>\n",
       "    <tr>\n",
       "      <th>2</th>\n",
       "      <td>1</td>\n",
       "      <td>cholesterol</td>\n",
       "      <td>1</td>\n",
       "    </tr>\n",
       "    <tr>\n",
       "      <th>3</th>\n",
       "      <td>1</td>\n",
       "      <td>cholesterol</td>\n",
       "      <td>0</td>\n",
       "    </tr>\n",
       "    <tr>\n",
       "      <th>4</th>\n",
       "      <td>0</td>\n",
       "      <td>cholesterol</td>\n",
       "      <td>0</td>\n",
       "    </tr>\n",
       "  </tbody>\n",
       "</table>\n",
       "</div>"
      ],
      "text/plain": [
       "   cardio     variable  value\n",
       "0       0  cholesterol      0\n",
       "1       1  cholesterol      1\n",
       "2       1  cholesterol      1\n",
       "3       1  cholesterol      0\n",
       "4       0  cholesterol      0"
      ]
     },
     "execution_count": 152,
     "metadata": {},
     "output_type": "execute_result"
    }
   ],
   "source": [
    "df_cat = pd.melt(df, id_vars=['cardio'], \n",
    "                  value_vars=['cholesterol', 'gluc', 'smoke', 'alco', 'active', 'overweight'])\n",
    "\n",
    "df_cat.head()"
   ]
  },
  {
   "cell_type": "markdown",
   "id": "provincial-premiere",
   "metadata": {},
   "source": [
    "* Group and reformat the data to split it by 'cardio' and show the counts of each feature:"
   ]
  },
  {
   "cell_type": "code",
   "execution_count": 153,
   "id": "hollow-cradle",
   "metadata": {},
   "outputs": [],
   "source": [
    "df_cat['total'] = np.random.randn()\n",
    "df_cat = df_cat.groupby(['variable', 'cardio', 'value'], as_index=False).count()"
   ]
  },
  {
   "cell_type": "code",
   "execution_count": 154,
   "id": "simple-aside",
   "metadata": {},
   "outputs": [
    {
     "data": {
      "text/html": [
       "<div>\n",
       "<style scoped>\n",
       "    .dataframe tbody tr th:only-of-type {\n",
       "        vertical-align: middle;\n",
       "    }\n",
       "\n",
       "    .dataframe tbody tr th {\n",
       "        vertical-align: top;\n",
       "    }\n",
       "\n",
       "    .dataframe thead th {\n",
       "        text-align: right;\n",
       "    }\n",
       "</style>\n",
       "<table border=\"1\" class=\"dataframe\">\n",
       "  <thead>\n",
       "    <tr style=\"text-align: right;\">\n",
       "      <th></th>\n",
       "      <th>variable</th>\n",
       "      <th>cardio</th>\n",
       "      <th>value</th>\n",
       "      <th>total</th>\n",
       "    </tr>\n",
       "  </thead>\n",
       "  <tbody>\n",
       "    <tr>\n",
       "      <th>0</th>\n",
       "      <td>active</td>\n",
       "      <td>0</td>\n",
       "      <td>0</td>\n",
       "      <td>6378</td>\n",
       "    </tr>\n",
       "    <tr>\n",
       "      <th>1</th>\n",
       "      <td>active</td>\n",
       "      <td>0</td>\n",
       "      <td>1</td>\n",
       "      <td>28643</td>\n",
       "    </tr>\n",
       "    <tr>\n",
       "      <th>2</th>\n",
       "      <td>active</td>\n",
       "      <td>1</td>\n",
       "      <td>0</td>\n",
       "      <td>7361</td>\n",
       "    </tr>\n",
       "    <tr>\n",
       "      <th>3</th>\n",
       "      <td>active</td>\n",
       "      <td>1</td>\n",
       "      <td>1</td>\n",
       "      <td>27618</td>\n",
       "    </tr>\n",
       "    <tr>\n",
       "      <th>4</th>\n",
       "      <td>alco</td>\n",
       "      <td>0</td>\n",
       "      <td>0</td>\n",
       "      <td>33080</td>\n",
       "    </tr>\n",
       "  </tbody>\n",
       "</table>\n",
       "</div>"
      ],
      "text/plain": [
       "  variable  cardio  value  total\n",
       "0   active       0      0   6378\n",
       "1   active       0      1  28643\n",
       "2   active       1      0   7361\n",
       "3   active       1      1  27618\n",
       "4     alco       0      0  33080"
      ]
     },
     "execution_count": 154,
     "metadata": {},
     "output_type": "execute_result"
    }
   ],
   "source": [
    "df_cat.head()"
   ]
  },
  {
   "cell_type": "markdown",
   "id": "solar-horse",
   "metadata": {},
   "source": [
    "* Draw the catplot with `sns.catplot()`: The dataset should be split by 'Cardio' so there is one chart for each `cardio` value."
   ]
  },
  {
   "cell_type": "code",
   "execution_count": 159,
   "id": "tender-minimum",
   "metadata": {},
   "outputs": [
    {
     "data": {
      "image/png": "[encoded data removed]",
      "text/plain": [
       "<Figure size 762.375x360 with 2 Axes>"
      ]
     },
     "metadata": {
      "needs_background": "light"
     },
     "output_type": "display_data"
    }
   ],
   "source": [
    "graph = sns.catplot(\n",
    "    x = 'variable', \n",
    "    y = 'total', \n",
    "    hue = 'value', \n",
    "    data = df_cat, \n",
    "    col = 'cardio', \n",
    "    kind = 'bar')"
   ]
  },
  {
   "cell_type": "markdown",
   "id": "separate-christmas",
   "metadata": {},
   "source": [
    "We can see the count of **GOOD** outcomes in <span style=\"color:blue\">**blue**</span> and **BAD** outcomes in <span style=\"color:orange\">**orange**</span> for patients with and without cardiac disease."
   ]
  },
  {
   "cell_type": "markdown",
   "id": "appointed-attitude",
   "metadata": {},
   "source": [
    "## 3) Exploring corrolations:"
   ]
  },
  {
   "cell_type": "markdown",
   "id": "separated-recipient",
   "metadata": {},
   "source": [
    "Now we explore the relationship between the measured variables and show it in the form of a *Heat map*. \n",
    "\n",
    "We proceed as follow:"
   ]
  },
  {
   "cell_type": "markdown",
   "id": "drawn-lafayette",
   "metadata": {},
   "source": [
    "* Clean the data. Filter out the following patient segments that represent incorrect data:\n",
    "  - diastolic pressure is higher than systolic\n",
    "  - height is less than the 2.5th percentile\n",
    "  - height is more than the 97.5th percentile\n",
    "  - weight is less than the 2.5th percentile\n",
    "  - weight is more than the 97.5th percentile"
   ]
  },
  {
   "cell_type": "code",
   "execution_count": 80,
   "id": "structural-spanking",
   "metadata": {},
   "outputs": [],
   "source": [
    "mask1 = (df['ap_lo'] <= df['ap_hi'])\n",
    "mask2 = (df['height'] >= df['height'].quantile(0.025)) & (df['height'] <= df['height'].quantile(0.975))\n",
    "mask3 = (df['weight'] >= df['weight'].quantile(0.025)) & (df['weight'] <= df['weight'].quantile(0.975))\n",
    "\n",
    "df_heat = df[mask1 & mask2 & mask3]"
   ]
  },
  {
   "cell_type": "markdown",
   "id": "third-manual",
   "metadata": {},
   "source": [
    "* Create a correlation matrix using the dataset:"
   ]
  },
  {
   "cell_type": "code",
   "execution_count": 115,
   "id": "thrown-vegetation",
   "metadata": {},
   "outputs": [],
   "source": [
    "corr_mtrx = df_heat.corr()"
   ]
  },
  {
   "cell_type": "markdown",
   "id": "frozen-syndrome",
   "metadata": {},
   "source": [
    "Mask the upper triangle: This is because corelation matrices are symmetrical, half of it suffices to analyze correctly the data."
   ]
  },
  {
   "cell_type": "code",
   "execution_count": 116,
   "id": "rocky-cisco",
   "metadata": {},
   "outputs": [],
   "source": [
    "mask = np.triu(np.ones(corr_mtrx.shape),0)"
   ]
  },
  {
   "cell_type": "markdown",
   "id": "loving-brook",
   "metadata": {},
   "source": [
    "Set up the matplotlib figure and plot the correlation matrix using seaborn's `heatmap()`:"
   ]
  },
  {
   "cell_type": "code",
   "execution_count": 117,
   "id": "angry-xerox",
   "metadata": {},
   "outputs": [
    {
     "data": {
      "image/png": "[encoded data removed]",
      "text/plain": [
       "<Figure size 864x864 with 2 Axes>"
      ]
     },
     "metadata": {
      "needs_background": "light"
     },
     "output_type": "display_data"
    }
   ],
   "source": [
    "fig, ax = plt.subplots(figsize=(12,12))\n",
    "ax = sns.heatmap(\n",
    "    data=corr_mtrx,\n",
    "    cmap='coolwarm',\n",
    "    vmin = -0.1,\n",
    "    vmax = 0.25,\n",
    "    center = 0,\n",
    "    robust=True,\n",
    "    annot = True,\n",
    "    fmt = '.1f',\n",
    "    square = True,\n",
    "    mask=mask)"
   ]
  }
 ],
 "metadata": {
  "kernelspec": {
   "display_name": "Python 3",
   "language": "python3",
   "name": "python3"
  },
  "language_info": {
   "codemirror_mode": {
    "name": "ipython",
    "version": 3
   },
   "file_extension": ".py",
   "mimetype": "text/x-python",
   "name": "python",
   "nbconvert_exporter": "python",
   "pygments_lexer": "ipython3",
   "version": "3.6.9"
  }
 },
 "nbformat": 4,
 "nbformat_minor": 5
}
